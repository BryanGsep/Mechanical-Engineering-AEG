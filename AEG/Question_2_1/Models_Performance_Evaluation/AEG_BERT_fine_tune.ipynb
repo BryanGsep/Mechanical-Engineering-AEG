{
 "cells": [
  {
   "attachments": {},
   "cell_type": "markdown",
   "metadata": {},
   "source": [
    "# Load and preprocess data"
   ]
  },
  {
   "cell_type": "code",
   "execution_count": 1,
   "metadata": {},
   "outputs": [
    {
     "name": "stderr",
     "output_type": "stream",
     "text": [
      "/Users/dungbeoooiuuuthocuteephomaique/Desktop/Dung Folder/Nghien cuu khoa hoc/Dataset/Indonesia side/.venv/lib/python3.8/site-packages/tqdm/auto.py:21: TqdmWarning: IProgress not found. Please update jupyter and ipywidgets. See https://ipywidgets.readthedocs.io/en/stable/user_install.html\n",
      "  from .autonotebook import tqdm as notebook_tqdm\n"
     ]
    }
   ],
   "source": [
    "import torch\n",
    "import pandas as pd\n",
    "from transformers import BertTokenizer, BertForSequenceClassification, AdamW\n",
    "import nltk\n",
    "from nltk.tokenize import word_tokenize\n",
    "from nltk.stem import WordNetLemmatizer"
   ]
  },
  {
   "cell_type": "code",
   "execution_count": 2,
   "metadata": {},
   "outputs": [],
   "source": [
    "# Preprocess data function which including lemmatized and POS\n",
    "def genLemmatizedEssay(Lemmatized_Tokens, POS_Tags):\n",
    "    tmp = map(lambda x: str(x[0]) + '_' + str(x[1][1]), zip(Lemmatized_Tokens, POS_Tags))\n",
    "    return ' '.join(tmp)\n",
    "\n",
    "def preProcess(filePath):\n",
    "    # Step 1: Read the .txt file into a pandas DataFrame\n",
    "    df = pd.read_csv(filePath, usecols=['Essay', 'Score'])\n",
    "\n",
    "    # Step 2: Tokenization\n",
    "    df['Tokens'] = df['Essay'].apply(word_tokenize)\n",
    "\n",
    "    # Step 3: Lemmatization\n",
    "    lemmatizer = WordNetLemmatizer()\n",
    "    df['Lemmatized_Tokens'] = df['Tokens'].apply(lambda tokens: [lemmatizer.lemmatize(token) for token in tokens])\n",
    "\n",
    "    # Step 4: Part-of-speech (POS) tagging\n",
    "    df['POS_Tags'] = df['Lemmatized_Tokens'].apply(nltk.pos_tag)\n",
    "\n",
    "    # Step 5: Join all word in lemmatized tokens\n",
    "    df['Lemmatized_Essays'] = df.apply(lambda row: genLemmatizedEssay(row['Lemmatized_Tokens'], row['POS_Tags']), axis=1)\n",
    "\n",
    "    return df"
   ]
  },
  {
   "cell_type": "code",
   "execution_count": 3,
   "metadata": {},
   "outputs": [
    {
     "name": "stdout",
     "output_type": "stream",
     "text": [
      "0    A_DT combination_NN of_IN cost_NN and_CC struc...\n",
      "1    The_DT utilization_NN of_IN three_CD slender_N...\n",
      "2    Smaller_NNP wind_NN power_NN generation_NN tur...\n",
      "3    There_EX are_VBP several_JJ reason_NN why_WRB ...\n",
      "4    The_DT majority_NN of_IN wind_NN turbine_NN ar...\n",
      "Name: Lemmatized_Essays, dtype: object\n"
     ]
    }
   ],
   "source": [
    "filePath = './Baseline_Filtered_Synthesized_Essays.csv'\n",
    "\n",
    "df_processed = preProcess(filePath)\n",
    "\n",
    "print(df_processed['Lemmatized_Essays'][:5])"
   ]
  },
  {
   "attachments": {},
   "cell_type": "markdown",
   "metadata": {},
   "source": [
    "# Import BERT model and create dataset for training"
   ]
  },
  {
   "cell_type": "code",
   "execution_count": 4,
   "metadata": {},
   "outputs": [
    {
     "name": "stderr",
     "output_type": "stream",
     "text": [
      "Some weights of the model checkpoint at bert-base-uncased were not used when initializing BertForSequenceClassification: ['cls.seq_relationship.weight', 'cls.predictions.transform.LayerNorm.bias', 'cls.seq_relationship.bias', 'cls.predictions.transform.LayerNorm.weight', 'cls.predictions.bias', 'cls.predictions.transform.dense.bias', 'cls.predictions.transform.dense.weight', 'cls.predictions.decoder.weight']\n",
      "- This IS expected if you are initializing BertForSequenceClassification from the checkpoint of a model trained on another task or with another architecture (e.g. initializing a BertForSequenceClassification model from a BertForPreTraining model).\n",
      "- This IS NOT expected if you are initializing BertForSequenceClassification from the checkpoint of a model that you expect to be exactly identical (initializing a BertForSequenceClassification model from a BertForSequenceClassification model).\n",
      "Some weights of BertForSequenceClassification were not initialized from the model checkpoint at bert-base-uncased and are newly initialized: ['classifier.bias', 'classifier.weight']\n",
      "You should probably TRAIN this model on a down-stream task to be able to use it for predictions and inference.\n",
      "/Users/dungbeoooiuuuthocuteephomaique/Desktop/Dung Folder/Nghien cuu khoa hoc/Dataset/Indonesia side/.venv/lib/python3.8/site-packages/transformers/optimization.py:391: FutureWarning: This implementation of AdamW is deprecated and will be removed in a future version. Use the PyTorch implementation torch.optim.AdamW instead, or set `no_deprecation_warning=True` to disable this warning\n",
      "  warnings.warn(\n"
     ]
    }
   ],
   "source": [
    "# Load the pre-trained BERT model and modify the final layer for classification\n",
    "bert_model = BertForSequenceClassification.from_pretrained(\n",
    "    'bert-base-uncased',\n",
    "    num_labels=3,\n",
    "    output_attentions=False,\n",
    "    output_hidden_states=False,\n",
    ")\n",
    "\n",
    "# Set the optimizer and learning rate scheduler\n",
    "optimizer = AdamW(bert_model.parameters(), lr=2e-5, eps=1e-8)\n",
    "\n",
    "epochs = 2"
   ]
  },
  {
   "cell_type": "code",
   "execution_count": 5,
   "metadata": {},
   "outputs": [],
   "source": [
    "from torch.utils.data import Dataset, DataLoader\n",
    "\n",
    "class POSDataset(Dataset):\n",
    "    def __init__(self, texts, labels, tokenizer, max_length):\n",
    "        self.texts = texts\n",
    "        self.labels = labels\n",
    "        self.tokenizer = tokenizer\n",
    "        self.max_length = max_length\n",
    "\n",
    "    def __len__(self):\n",
    "        return len(self.texts)\n",
    "\n",
    "    def __getitem__(self, index):\n",
    "        text = self.texts[index]\n",
    "        label = self.labels[index]\n",
    "\n",
    "        inputs = self.tokenizer.encode_plus(\n",
    "            text,\n",
    "            add_special_tokens=True,\n",
    "            max_length=self.max_length,\n",
    "            pad_to_max_length=True,\n",
    "            return_attention_mask=True,\n",
    "            return_tensors='pt'\n",
    "        )\n",
    "\n",
    "        input_ids = inputs['input_ids'].squeeze()\n",
    "        attention_mask = inputs['attention_mask'].squeeze()\n",
    "\n",
    "        return {\n",
    "            'input_ids': input_ids,\n",
    "            'attention_mask': attention_mask,\n",
    "            'labels': torch.tensor(label)\n",
    "        }"
   ]
  },
  {
   "attachments": {},
   "cell_type": "markdown",
   "metadata": {},
   "source": [
    "# Fine-tune BERT model"
   ]
  },
  {
   "cell_type": "code",
   "execution_count": 6,
   "metadata": {},
   "outputs": [],
   "source": [
    "from transformers import BertTokenizer\n",
    "bert_tokenizer = BertTokenizer.from_pretrained('bert-base-uncased')\n",
    "max_length = 128  # Maximum sequence length"
   ]
  },
  {
   "cell_type": "code",
   "execution_count": 7,
   "metadata": {},
   "outputs": [
    {
     "name": "stderr",
     "output_type": "stream",
     "text": [
      "Truncation was not explicitly activated but `max_length` is provided a specific value, please use `truncation=True` to explicitly truncate examples to max length. Defaulting to 'longest_first' truncation strategy. If you encode pairs of sequences (GLUE-style) with the tokenizer you can select this strategy more precisely by providing a specific strategy to `truncation`.\n"
     ]
    },
    {
     "name": "stdout",
     "output_type": "stream",
     "text": [
      "Fold 1\n",
      "length of train indices:  720\n",
      "Epoch 1\n"
     ]
    },
    {
     "name": "stderr",
     "output_type": "stream",
     "text": [
      "/Users/dungbeoooiuuuthocuteephomaique/Desktop/Dung Folder/Nghien cuu khoa hoc/Dataset/Indonesia side/.venv/lib/python3.8/site-packages/transformers/tokenization_utils_base.py:2354: FutureWarning: The `pad_to_max_length` argument is deprecated and will be removed in a future version, use `padding=True` or `padding='longest'` to pad to the longest sequence in the batch, or use `padding='max_length'` to pad to a max length. In this case, you can give a specific length with `max_length` (e.g. `max_length=45`) or leave max_length to None to pad to the maximal input size of the model (e.g. 512 for Bert).\n",
      "  warnings.warn(\n"
     ]
    },
    {
     "name": "stdout",
     "output_type": "stream",
     "text": [
      "Training Loss: 0.9399851580460866\n",
      "Validation Loss: 0.6798028900571491\n",
      "Validation Accuracy: 0.7663043478260869\n",
      "Test Loss: 0.8076926052570343\n",
      "Test Accuracy: 0.65\n",
      "Epoch 2\n",
      "Training Loss: 0.47190672068132294\n",
      "Validation Loss: 0.18401041869883952\n",
      "Validation Accuracy: 0.9456521739130435\n",
      "Test Loss: 0.3093110151588917\n",
      "Test Accuracy: 0.875\n",
      "Fold 2\n",
      "length of train indices:  720\n",
      "Epoch 1\n"
     ]
    },
    {
     "name": "stderr",
     "output_type": "stream",
     "text": [
      "/Users/dungbeoooiuuuthocuteephomaique/Desktop/Dung Folder/Nghien cuu khoa hoc/Dataset/Indonesia side/.venv/lib/python3.8/site-packages/transformers/tokenization_utils_base.py:2354: FutureWarning: The `pad_to_max_length` argument is deprecated and will be removed in a future version, use `padding=True` or `padding='longest'` to pad to the longest sequence in the batch, or use `padding='max_length'` to pad to a max length. In this case, you can give a specific length with `max_length` (e.g. `max_length=45`) or leave max_length to None to pad to the maximal input size of the model (e.g. 512 for Bert).\n",
      "  warnings.warn(\n"
     ]
    },
    {
     "name": "stdout",
     "output_type": "stream",
     "text": [
      "Training Loss: 0.16335236931012737\n",
      "Validation Loss: 0.10739617146875548\n",
      "Validation Accuracy: 0.9619565217391305\n",
      "Test Loss: 0.14929117411375045\n",
      "Test Accuracy: 0.925\n",
      "Epoch 2\n",
      "Training Loss: 0.1009526490026878\n",
      "Validation Loss: 0.09349371792505616\n",
      "Validation Accuracy: 0.9782608695652174\n",
      "Test Loss: 0.49476496372371914\n",
      "Test Accuracy: 0.85\n",
      "Fold 3\n",
      "length of train indices:  720\n",
      "Epoch 1\n"
     ]
    },
    {
     "name": "stderr",
     "output_type": "stream",
     "text": [
      "/Users/dungbeoooiuuuthocuteephomaique/Desktop/Dung Folder/Nghien cuu khoa hoc/Dataset/Indonesia side/.venv/lib/python3.8/site-packages/transformers/tokenization_utils_base.py:2354: FutureWarning: The `pad_to_max_length` argument is deprecated and will be removed in a future version, use `padding=True` or `padding='longest'` to pad to the longest sequence in the batch, or use `padding='max_length'` to pad to a max length. In this case, you can give a specific length with `max_length` (e.g. `max_length=45`) or leave max_length to None to pad to the maximal input size of the model (e.g. 512 for Bert).\n",
      "  warnings.warn(\n"
     ]
    },
    {
     "name": "stdout",
     "output_type": "stream",
     "text": [
      "Training Loss: 0.04210877879522741\n",
      "Validation Loss: 0.047477772935172136\n",
      "Validation Accuracy: 0.9945652173913043\n",
      "Test Loss: 0.2551157706417143\n",
      "Test Accuracy: 0.85\n",
      "Epoch 2\n",
      "Training Loss: 0.05581254708684153\n",
      "Validation Loss: 0.041704173230201654\n",
      "Validation Accuracy: 0.9891304347826086\n",
      "Test Loss: 0.24559347685426475\n",
      "Test Accuracy: 0.925\n",
      "Fold 4\n",
      "length of train indices:  720\n",
      "Epoch 1\n"
     ]
    },
    {
     "name": "stderr",
     "output_type": "stream",
     "text": [
      "/Users/dungbeoooiuuuthocuteephomaique/Desktop/Dung Folder/Nghien cuu khoa hoc/Dataset/Indonesia side/.venv/lib/python3.8/site-packages/transformers/tokenization_utils_base.py:2354: FutureWarning: The `pad_to_max_length` argument is deprecated and will be removed in a future version, use `padding=True` or `padding='longest'` to pad to the longest sequence in the batch, or use `padding='max_length'` to pad to a max length. In this case, you can give a specific length with `max_length` (e.g. `max_length=45`) or leave max_length to None to pad to the maximal input size of the model (e.g. 512 for Bert).\n",
      "  warnings.warn(\n"
     ]
    },
    {
     "name": "stdout",
     "output_type": "stream",
     "text": [
      "Training Loss: 0.01852489976833264\n",
      "Validation Loss: 0.006942187496663436\n",
      "Validation Accuracy: 1.0\n",
      "Test Loss: 0.29799986253492533\n",
      "Test Accuracy: 0.875\n",
      "Epoch 2\n",
      "Training Loss: 0.010708240323906972\n",
      "Validation Loss: 0.0029926699100305204\n",
      "Validation Accuracy: 1.0\n",
      "Test Loss: 0.14844702826812864\n",
      "Test Accuracy: 0.95\n",
      "Fold 5\n",
      "length of train indices:  720\n",
      "Epoch 1\n"
     ]
    },
    {
     "name": "stderr",
     "output_type": "stream",
     "text": [
      "/Users/dungbeoooiuuuthocuteephomaique/Desktop/Dung Folder/Nghien cuu khoa hoc/Dataset/Indonesia side/.venv/lib/python3.8/site-packages/transformers/tokenization_utils_base.py:2354: FutureWarning: The `pad_to_max_length` argument is deprecated and will be removed in a future version, use `padding=True` or `padding='longest'` to pad to the longest sequence in the batch, or use `padding='max_length'` to pad to a max length. In this case, you can give a specific length with `max_length` (e.g. `max_length=45`) or leave max_length to None to pad to the maximal input size of the model (e.g. 512 for Bert).\n",
      "  warnings.warn(\n"
     ]
    },
    {
     "name": "stdout",
     "output_type": "stream",
     "text": [
      "Training Loss: 0.003936752118170262\n",
      "Validation Loss: 0.0020212222437333803\n",
      "Validation Accuracy: 1.0\n",
      "Test Loss: 0.14501011944375933\n",
      "Test Accuracy: 0.95\n",
      "Epoch 2\n",
      "Training Loss: 0.002985651951490177\n",
      "Validation Loss: 0.002021580294240266\n",
      "Validation Accuracy: 1.0\n",
      "Test Loss: 0.13320218885783106\n",
      "Test Accuracy: 0.925\n"
     ]
    }
   ],
   "source": [
    "from sklearn.model_selection import KFold\n",
    "\n",
    "# Define the number of folds for cross-validation\n",
    "n_folds = 5\n",
    "\n",
    "device = 'cpu'\n",
    "\n",
    "# Initialize the cross-validator\n",
    "kf = KFold(n_splits=n_folds, shuffle=True)\n",
    "\n",
    "df_test = preProcess('./Data_Augment_Origin_2.csv')\n",
    "\n",
    "test_dataset = POSDataset(df_test['Lemmatized_Essays'].to_list(), df_test['Score'].to_list(), bert_tokenizer, max_length)\n",
    "\n",
    "test_loader = DataLoader(test_dataset, batch_size=8, shuffle=True)\n",
    "\n",
    "# Iterate over the folds\n",
    "for fold, (train_indices, val_indices) in enumerate(kf.split(df_processed['Essay'])):\n",
    "    print(f'Fold {fold+1}')\n",
    "    print('length of train indices: ', len(train_indices))\n",
    "\n",
    "    # Initialize the data loaders for training and validation\n",
    "    df_train = df_processed.loc[train_indices]\n",
    "    df_val = df_processed.loc[val_indices]\n",
    "\n",
    "    train_dataset = POSDataset(df_train['Lemmatized_Essays'].to_list(), df_train['Score'].to_list(), bert_tokenizer, max_length)\n",
    "    val_dataset = POSDataset(df_val['Lemmatized_Essays'].to_list(), df_val['Score'].to_list(), bert_tokenizer, max_length)\n",
    "\n",
    "    train_loader = DataLoader(train_dataset, batch_size=8, shuffle=True)\n",
    "    val_loader = DataLoader(val_dataset, batch_size=8, shuffle=False)\n",
    "\n",
    "    # Train and evaluate the model for each epoch\n",
    "    for epoch in range(epochs):\n",
    "        print(f'Epoch {epoch+1}')\n",
    "        \n",
    "        # Train the model on the training data\n",
    "        bert_model.train()\n",
    "        train_loss = 0.0\n",
    "        # print('train_loader: ', train_loader[0])\n",
    "        for batch in train_loader:\n",
    "            optimizer.zero_grad()\n",
    "            outputs = bert_model(**batch)\n",
    "            loss = outputs.loss\n",
    "            loss.backward()\n",
    "            optimizer.step()\n",
    "            train_loss += loss.item()\n",
    "        train_loss /= len(train_loader)\n",
    "        print(f'Training Loss: {train_loss}')\n",
    "        \n",
    "        # Evaluate the model on the validation data\n",
    "        bert_model.eval()\n",
    "        val_loss = 0.0\n",
    "        val_acc = 0.0\n",
    "        with torch.no_grad():\n",
    "            for batch in val_loader:\n",
    "                outputs = bert_model(**batch)\n",
    "                loss = outputs.loss\n",
    "                logits = outputs.logits\n",
    "                val_loss += loss.item()\n",
    "                preds = logits.argmax(dim=1)\n",
    "                val_acc += (preds == batch['labels']).float().mean().item()\n",
    "        val_loss /= len(val_loader)\n",
    "        val_acc /= len(val_loader)\n",
    "        print(f'Validation Loss: {val_loss}')\n",
    "        print(f'Validation Accuracy: {val_acc}')\n",
    "\n",
    "        # Test on original data\n",
    "        bert_model.eval()\n",
    "        test_loss = 0.0\n",
    "        test_acc = 0.0\n",
    "        with torch.no_grad():\n",
    "            for batch in test_loader:\n",
    "                outputs = bert_model(**batch)\n",
    "                loss = outputs.loss\n",
    "                logits = outputs.logits\n",
    "                test_loss += loss.item()\n",
    "                preds = logits.argmax(dim=1)\n",
    "                test_acc += (preds == batch['labels']).float().mean().item()\n",
    "        test_loss /= len(test_loader)\n",
    "        test_acc /= len(test_loader)\n",
    "        print(f'Test Loss: {test_loss}')\n",
    "        print(f'Test Accuracy: {test_acc}')"
   ]
  },
  {
   "cell_type": "code",
   "execution_count": 8,
   "metadata": {},
   "outputs": [
    {
     "name": "stderr",
     "output_type": "stream",
     "text": [
      "/Users/dungbeoooiuuuthocuteephomaique/Desktop/Dung Folder/Nghien cuu khoa hoc/Dataset/Indonesia side/.venv/lib/python3.8/site-packages/transformers/tokenization_utils_base.py:2354: FutureWarning: The `pad_to_max_length` argument is deprecated and will be removed in a future version, use `padding=True` or `padding='longest'` to pad to the longest sequence in the batch, or use `padding='max_length'` to pad to a max length. In this case, you can give a specific length with `max_length` (e.g. `max_length=45`) or leave max_length to None to pad to the maximal input size of the model (e.g. 512 for Bert).\n",
      "  warnings.warn(\n"
     ]
    },
    {
     "name": "stdout",
     "output_type": "stream",
     "text": [
      "Model predictions:  [2. 1. 0. 0. 0. 0. 0. 0.]\n",
      "Real labels:  [2 1 0 0 0 0 0 0]\n",
      "Model predictions:  [2. 1. 0. 0. 0. 0. 0. 0. 2. 1. 1. 1. 1. 1. 1. 0.]\n",
      "Real labels:  [2 1 1 1 1 1 1 0]\n",
      "Model predictions:  [2. 1. 0. 0. 0. 0. 0. 0. 2. 1. 1. 1. 1. 1. 1. 0. 0. 0. 0. 0. 0. 2. 2. 2.]\n",
      "Real labels:  [0 0 0 0 0 2 2 2]\n",
      "Model predictions:  [2. 1. 0. 0. 0. 0. 0. 0. 2. 1. 1. 1. 1. 1. 1. 0. 0. 0. 0. 0. 0. 2. 2. 2.\n",
      " 2. 2. 2. 1. 1. 1. 0. 1.]\n",
      "Real labels:  [2 2 2 1 1 1 1 1]\n",
      "Model predictions:  [2. 1. 0. 0. 0. 0. 0. 0. 2. 1. 1. 1. 1. 1. 1. 0. 0. 0. 0. 0. 0. 2. 2. 2.\n",
      " 2. 2. 2. 1. 1. 1. 0. 1. 0. 1. 1. 0.]\n",
      "Real labels:  [1 1 1 0]\n",
      "Test Loss: 0.11349292274098843\n",
      "Test Accuracy: 0.925\n"
     ]
    }
   ],
   "source": [
    "# Test on original data\n",
    "df_test = preProcess('./Data_Augment_Origin_2.csv')\n",
    "\n",
    "test_dataset = POSDataset(df_test['Lemmatized_Essays'].to_list(), df_test['Score'].to_list(), bert_tokenizer, max_length)\n",
    "\n",
    "import numpy as np\n",
    "final_test_loader = DataLoader(test_dataset, batch_size=8, shuffle=False)\n",
    "bert_model.eval()\n",
    "test_loss = 0.0\n",
    "test_acc = 0.0\n",
    "predictions = []\n",
    "with torch.no_grad():\n",
    "    for batch in final_test_loader:\n",
    "        outputs = bert_model(**batch)\n",
    "        loss = outputs.loss\n",
    "        logits = outputs.logits\n",
    "        test_loss += loss.item()\n",
    "        preds = logits.argmax(dim=1)\n",
    "        predictions = np.append(np.array(predictions), np.array(preds.numpy()))\n",
    "        print('Model predictions: ', predictions)\n",
    "        print('Real labels: ', batch['labels'].numpy())\n",
    "        test_acc += (preds == batch['labels']).float().mean().item()\n",
    "test_loss /= len(final_test_loader)\n",
    "test_acc /= len(final_test_loader)\n",
    "df_test['Predictions'] = predictions\n",
    "df_test.to_csv('Master_data_with_prediction_2_1_BERT.csv', index=False)\n",
    "print(f'Test Loss: {test_loss}')\n",
    "print(f'Test Accuracy: {test_acc}')"
   ]
  },
  {
   "cell_type": "code",
   "execution_count": 9,
   "metadata": {},
   "outputs": [
    {
     "name": "stdout",
     "output_type": "stream",
     "text": [
      "Accuracy for each score level:\n",
      "Score 0: 1.00\n",
      "Score 1: 0.87\n",
      "Score 2: 1.00\n",
      "Accuracy for all score level:\n",
      "Score: 0.94\n",
      "\n",
      "QWK:\n",
      "Score: 0.95\n"
     ]
    }
   ],
   "source": [
    "import pandas as pd\n",
    "from sklearn.metrics import confusion_matrix, accuracy_score, cohen_kappa_score\n",
    "\n",
    "# Step 1: Load the CSV file and separate the \"score\" and \"prediction\" columns\n",
    "df = pd.read_csv(\"Master_data_with_prediction_2_1_BERT.csv\")\n",
    "y_true = df[\"Score\"]\n",
    "y_pred = df[\"Predictions\"]\n",
    "\n",
    "# Step 2: Calculate accuracy for each score level\n",
    "score_levels = sorted(df[\"Score\"].unique())\n",
    "accuracy_per_level = {}\n",
    "for level in score_levels:\n",
    "    mask = y_true == level\n",
    "    accuracy_per_level[level] = accuracy_score(y_true[mask], y_pred[mask])\n",
    "\n",
    "print(\"Accuracy for each score level:\")\n",
    "for level, accuracy in accuracy_per_level.items():\n",
    "    print(f\"Score {level}: {accuracy:.2f}\")\n",
    "\n",
    "print(\"Accuracy for all score level:\")\n",
    "print(f\"Score: {accuracy_score(y_true, y_pred):.2f}\")\n",
    "\n",
    "# Step 3 and Step 4: Calculate the confusion matrix and QWK\n",
    "conf_matrix = confusion_matrix(y_true, y_pred)\n",
    "qwk= cohen_kappa_score(y_true, y_pred, weights=\"quadratic\")\n",
    "\n",
    "print(\"\\nQWK:\")\n",
    "print(f\"Score: {qwk:.2f}\")"
   ]
  }
 ],
 "metadata": {
  "kernelspec": {
   "display_name": ".venv",
   "language": "python",
   "name": "python3"
  },
  "language_info": {
   "codemirror_mode": {
    "name": "ipython",
    "version": 3
   },
   "file_extension": ".py",
   "mimetype": "text/x-python",
   "name": "python",
   "nbconvert_exporter": "python",
   "pygments_lexer": "ipython3",
   "version": "3.8.0"
  },
  "orig_nbformat": 4
 },
 "nbformat": 4,
 "nbformat_minor": 2
}
