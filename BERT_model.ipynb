{
 "cells": [
  {
   "cell_type": "code",
   "execution_count": 1,
   "metadata": {},
   "outputs": [
    {
     "name": "stderr",
     "output_type": "stream",
     "text": [
      "/Users/dungbeoooiuuuthocuteephomaique/Desktop/Dung Folder/Nghien cuu khoa hoc/Dataset/Tunning/.venv/lib/python3.11/site-packages/tqdm/auto.py:21: TqdmWarning: IProgress not found. Please update jupyter and ipywidgets. See https://ipywidgets.readthedocs.io/en/stable/user_install.html\n",
      "  from .autonotebook import tqdm as notebook_tqdm\n"
     ]
    }
   ],
   "source": [
    "# Import libraries\n",
    "import pandas as pd\n",
    "import numpy as np\n",
    "import torch\n",
    "from transformers import BertTokenizer, BertModel\n",
    "from torch.utils.data import TensorDataset, random_split, DataLoader\n",
    "import torch.nn as nn\n",
    "import torch.optim as optim\n",
    "from sklearn.metrics import accuracy_score"
   ]
  },
  {
   "cell_type": "code",
   "execution_count": 2,
   "metadata": {},
   "outputs": [],
   "source": [
    "# Load dataset\n",
    "df = pd.read_csv('Dummy_Dataset.csv')"
   ]
  },
  {
   "cell_type": "code",
   "execution_count": 3,
   "metadata": {},
   "outputs": [],
   "source": [
    "# Preprocess data\n",
    "tokenizer = BertTokenizer.from_pretrained('bert-base-uncased')\n",
    "max_len = 512"
   ]
  },
  {
   "cell_type": "code",
   "execution_count": 4,
   "metadata": {},
   "outputs": [],
   "source": [
    "def tokenize_answers(answers):\n",
    "    input_ids = []\n",
    "    attention_masks = []\n",
    "\n",
    "    for answer in answers:\n",
    "        encoded_dict = tokenizer.encode_plus(answer,\n",
    "                                             add_special_tokens=True,\n",
    "                                             max_length=max_len,\n",
    "                                             pad_to_max_length=True,\n",
    "                                             return_attention_mask=True,\n",
    "                                             return_tensors='pt')\n",
    "        input_ids.append(encoded_dict['input_ids'])\n",
    "        attention_masks.append(encoded_dict['attention_mask'])\n",
    "\n",
    "    input_ids = torch.cat(input_ids, dim=0)\n",
    "    attention_masks = torch.cat(attention_masks, dim=0)\n",
    "\n",
    "    return input_ids, attention_masks\n"
   ]
  },
  {
   "cell_type": "code",
   "execution_count": 9,
   "metadata": {},
   "outputs": [
    {
     "name": "stdout",
     "output_type": "stream",
     "text": [
      "score value:  0       1\n",
      "1       0\n",
      "2       2\n",
      "3       0\n",
      "4       2\n",
      "       ..\n",
      "2389    0\n",
      "2390    0\n",
      "2391    0\n",
      "2392    0\n",
      "2393    1\n",
      "Length: 2394, dtype: int8\n"
     ]
    },
    {
     "name": "stderr",
     "output_type": "stream",
     "text": [
      "Some weights of the model checkpoint at bert-base-uncased were not used when initializing BertModel: ['cls.predictions.transform.LayerNorm.bias', 'cls.predictions.bias', 'cls.predictions.transform.dense.bias', 'cls.seq_relationship.weight', 'cls.predictions.transform.LayerNorm.weight', 'cls.predictions.transform.dense.weight', 'cls.predictions.decoder.weight', 'cls.seq_relationship.bias']\n",
      "- This IS expected if you are initializing BertModel from the checkpoint of a model trained on another task or with another architecture (e.g. initializing a BertForSequenceClassification model from a BertForPreTraining model).\n",
      "- This IS NOT expected if you are initializing BertModel from the checkpoint of a model that you expect to be exactly identical (initializing a BertForSequenceClassification model from a BertForSequenceClassification model).\n"
     ]
    }
   ],
   "source": [
    "input_ids, attention_masks = tokenize_answers(df['Essay'])\n",
    "\n",
    "# Convert scores to numerical values\n",
    "scores = df['Grade'].astype('category').cat.codes\n",
    "labels = torch.tensor(scores.values)\n",
    "\n",
    "# Split dataset\n",
    "dataset = TensorDataset(input_ids, attention_masks, labels)\n",
    "train_size = int(0.8 * len(dataset))\n",
    "val_size = len(dataset) - train_size\n",
    "train_dataset, val_dataset = random_split(dataset, [train_size, val_size])\n",
    "\n",
    "# Load BERT model\n",
    "bert_model = BertModel.from_pretrained('bert-base-uncased')\n",
    "\n",
    "# Freeze BERT model parameters\n",
    "for param in bert_model.parameters():\n",
    "    param.requires_grad = False"
   ]
  },
  {
   "cell_type": "code",
   "execution_count": 10,
   "metadata": {},
   "outputs": [],
   "source": [
    "# Add fully connected layer\n",
    "class EssayGrader(nn.Module):\n",
    "    def __init__(self):\n",
    "        super(EssayGrader, self).__init__()\n",
    "        self.bert = bert_model\n",
    "        self.dropout = nn.Dropout(0.1)\n",
    "        self.fc = nn.Linear(768, 3)\n",
    "\n",
    "    def forward(self, input_ids, attention_mask):\n",
    "        outputs = self.bert(input_ids=input_ids, attention_mask=attention_mask)\n",
    "        pooled_output = outputs[1]\n",
    "        pooled_output = self.dropout(pooled_output)\n",
    "        logits = self.fc(pooled_output)\n",
    "        return logits"
   ]
  },
  {
   "cell_type": "code",
   "execution_count": 19,
   "metadata": {},
   "outputs": [
    {
     "name": "stdout",
     "output_type": "stream",
     "text": [
      "Epoch [1/5], Train Loss: 1.1036, Train Acc: 0.3644, Val Loss: 1.0830, Val Acc: 0.4030\n",
      "Epoch [2/5], Train Loss: 1.0687, Train Acc: 0.4323, Val Loss: 1.0550, Val Acc: 0.4068\n",
      "Epoch [3/5], Train Loss: 1.0422, Train Acc: 0.4767, Val Loss: 1.0363, Val Acc: 0.4860\n",
      "Epoch [4/5], Train Loss: 1.0219, Train Acc: 0.5010, Val Loss: 1.0201, Val Acc: 0.4610\n",
      "Epoch [5/5], Train Loss: 1.0007, Train Acc: 0.5198, Val Loss: 0.9953, Val Acc: 0.5199\n"
     ]
    }
   ],
   "source": [
    "# Train model\n",
    "batch_size = 8\n",
    "train_dataloader = DataLoader(train_dataset, batch_size=batch_size, shuffle=True)\n",
    "val_dataloader = DataLoader(val_dataset, batch_size=batch_size, shuffle=False)\n",
    "\n",
    "device = torch.device('cuda' if torch.cuda.is_available() else 'cpu')\n",
    "model = EssayGrader().to(device)\n",
    "\n",
    "criterion = nn.CrossEntropyLoss()\n",
    "optimizer = optim.Adam(model.parameters(), lr=2e-5)\n",
    "\n",
    "num_epochs = 5\n",
    "for epoch in range(num_epochs):\n",
    "    train_loss = 0\n",
    "    train_acc = 0\n",
    "    val_loss = 0\n",
    "    val_acc = 0\n",
    "\n",
    "    model.train()\n",
    "    for batch in train_dataloader:\n",
    "        batch_input_ids = batch[0].to(device)\n",
    "        batch_attention_masks = batch[1].to(device)\n",
    "        batch_labels = batch[2].to(device)\n",
    "\n",
    "        optimizer.zero_grad()\n",
    "\n",
    "        logits = model(batch_input_ids, batch_attention_masks)\n",
    "        loss = criterion(logits, batch_labels.long())\n",
    "\n",
    "        loss.backward()\n",
    "        optimizer.step()\n",
    "\n",
    "        train_loss += loss.item()\n",
    "        train_acc += accuracy_score(batch_labels.cpu(), np.argmax(logits.detach().cpu(), axis=1))\n",
    "\n",
    "    train_loss /= len(train_dataloader)\n",
    "    train_acc /= len(train_dataloader)\n",
    "    model.eval()\n",
    "    with torch.no_grad():\n",
    "        for batch in val_dataloader:\n",
    "            batch_input_ids = batch[0].to(device)\n",
    "            batch_attention_masks = batch[1].to(device)\n",
    "            batch_labels = batch[2].to(device)\n",
    "\n",
    "            with torch.no_grad():\n",
    "                logits = model(batch_input_ids, batch_attention_masks)\n",
    "                loss = criterion(logits, batch_labels.long())\n",
    "\n",
    "                val_loss += loss.item()\n",
    "                val_acc += accuracy_score(batch_labels.cpu(), np.argmax(logits.detach().cpu(), axis=1))\n",
    "\n",
    "    val_loss /= len(val_dataloader)\n",
    "    val_acc /= len(val_dataloader)\n",
    "\n",
    "    print('Epoch [{}/{}], Train Loss: {:.4f}, Train Acc: {:.4f}, Val Loss: {:.4f}, Val Acc: {:.4f}'\n",
    "        .format(epoch+1, num_epochs, train_loss, train_acc, val_loss, val_acc))"
   ]
  },
  {
   "cell_type": "code",
   "execution_count": 2,
   "metadata": {},
   "outputs": [],
   "source": [
    "def predict_scores(file_path):\n",
    "    model.eval()\n",
    "    \n",
    "    # Load CSV file\n",
    "    df = pd.read_csv(file_path)\n",
    "    score = df['Grade'].to_list()\n",
    "    \n",
    "    # Tokenize answers\n",
    "    input_ids, attention_masks = tokenize_answers(df['Essay'])\n",
    "    input_ids = input_ids.to(device)\n",
    "    attention_masks = attention_masks.to(device)\n",
    "    \n",
    "    with torch.no_grad():\n",
    "        logits = model(input_ids, attention_masks)\n",
    "        scores = nn.functional.softmax(logits, dim=1)\n",
    "        predicted_scores = torch.argmax(scores, dim=1).cpu().numpy().tolist()\n",
    "    \n",
    "    correct_score = [0, 0, 0]\n",
    "    total_score = [0, 0, 0]\n",
    "\n",
    "    for i in range(len(score)):\n",
    "        total_score[score[i]] += 1\n",
    "        if (score[i] == predicted_scores[i]):\n",
    "            correct_score[score[i]] += 1\n",
    "    \n",
    "    for j in range(len(correct_score)):\n",
    "        print('Score Level {}, Accuracy percentage: {:.4f}'\n",
    "        .format(j, correct_score[j]/total_score[j]))"
   ]
  },
  {
   "cell_type": "code",
   "execution_count": 3,
   "metadata": {},
   "outputs": [
    {
     "ename": "NameError",
     "evalue": "name 'model' is not defined",
     "output_type": "error",
     "traceback": [
      "\u001b[0;31m---------------------------------------------------------------------------\u001b[0m",
      "\u001b[0;31mNameError\u001b[0m                                 Traceback (most recent call last)",
      "Cell \u001b[0;32mIn[3], line 1\u001b[0m\n\u001b[0;32m----> 1\u001b[0m predict_scores(\u001b[39m'\u001b[39;49m\u001b[39m./Dummy_Dataset.csv\u001b[39;49m\u001b[39m'\u001b[39;49m)\n",
      "Cell \u001b[0;32mIn[2], line 2\u001b[0m, in \u001b[0;36mpredict_scores\u001b[0;34m(file_path)\u001b[0m\n\u001b[1;32m      1\u001b[0m \u001b[39mdef\u001b[39;00m \u001b[39mpredict_scores\u001b[39m(file_path):\n\u001b[0;32m----> 2\u001b[0m     model\u001b[39m.\u001b[39meval()\n\u001b[1;32m      4\u001b[0m     \u001b[39m# Load CSV file\u001b[39;00m\n\u001b[1;32m      5\u001b[0m     df \u001b[39m=\u001b[39m pd\u001b[39m.\u001b[39mread_csv(file_path)\n",
      "\u001b[0;31mNameError\u001b[0m: name 'model' is not defined"
     ]
    }
   ],
   "source": [
    "predict_scores('./Dummy_Dataset.csv')"
   ]
  }
 ],
 "metadata": {
  "kernelspec": {
   "display_name": ".venv",
   "language": "python",
   "name": "python3"
  },
  "language_info": {
   "codemirror_mode": {
    "name": "ipython",
    "version": 3
   },
   "file_extension": ".py",
   "mimetype": "text/x-python",
   "name": "python",
   "nbconvert_exporter": "python",
   "pygments_lexer": "ipython3",
   "version": "3.11.2"
  },
  "orig_nbformat": 4
 },
 "nbformat": 4,
 "nbformat_minor": 2
}
